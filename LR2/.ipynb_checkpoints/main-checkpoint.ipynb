{
 "cells": [
  {
   "cell_type": "code",
   "execution_count": null,
   "metadata": {
    "collapsed": true,
    "pycharm": {
     "is_executing": true
    }
   },
   "outputs": [],
   "source": [
    "import numpy as np\n",
    "import random\n",
    "from pynverse import inversefunc\n",
    "import matplotlib.pyplot as plt\n",
    "from scipy.stats import norm, t, sem\n",
    "\n",
    "\n",
    "# TASK 1\n",
    "amount_of_numbers: int = 5000\n",
    "a: float = 1.00\n",
    "b: float = 5.00\n",
    "u: list[float] = [random.random() for _ in range(amount_of_numbers)]\n",
    "\n",
    "distribution_function = norm.cdf\n",
    "inverse_function = inversefunc(distribution_function)\n",
    "\n",
    "values = np.array([inverse_function(val) for val in u])\n",
    "N: int = len(values)\n",
    "\n",
    "# Histogram\n",
    "plt.figure(figsize=(8, 4))\n",
    "plt.hist(values, bins=50, color='blue', density=True, edgecolor='k', label='Distribution', alpha=0.5, zorder=2)\n",
    "plt.grid(which='both', linestyle='dotted', alpha=0.5)\n",
    "plt.show()\n",
    "\n",
    "\n",
    "# Marks\n",
    "\n",
    "# точечная оценка\n",
    "# http://datalearning.ru/index.php/textbook?cid=1&mid=1&topic=2\n",
    "mu: float = values.mean()\n",
    "dx: float = ((values - mu) ** 2).sum() / (N - 1)\n",
    "print('Точечная оценка математического ожидания: ', mu)\n",
    "print('Точечная оценка дисперсии: ', dx)\n",
    "\n",
    "\n",
    "# интервальные оценки (доверительный интервал)\n",
    "\n",
    "confidence_level = 0.9 # Задаем уровень доверия\n",
    "sample_standard_error: float = sem(values) # # Вычисляем стандартную ошибку выборки\n",
    "t_value = t.ppf((1 + confidence_level) / 2, N - 1) # Вычисляем t-значение для заданного уровня доверия и степеней свободы\n",
    "confidence_interval = (mu - t_value * sample_standard_error, mu + t_value * sample_standard_error) # Вычисляем интервальную оценку матожидания\n",
    "print(f'При {confidence_level} интервальная оценка матожидания: {confidence_interval}')\n",
    "\n",
    "standard_derivation = np.std(values, ddof=1)\n",
    "h = standard_derivation * t.ppf((1 + confidence_level) / 2, N - 1)\n",
    "print(f'При {confidence_level} интервальная оценка дисперсии: {(mu - h, mu + h)}')"
   ]
  },
  {
   "cell_type": "code",
   "execution_count": null,
   "outputs": [],
   "source": [],
   "metadata": {
    "collapsed": false,
    "pycharm": {
     "is_executing": true
    }
   }
  },
  {
   "cell_type": "code",
   "execution_count": null,
   "outputs": [],
   "source": [
    "# TASK 2\n",
    "\n",
    "def generate_geometric_distribution(p: float) -> np.array:\n",
    "    response: list[float] = list()\n",
    "    sum: float = 0.00\n",
    "    count: int = 1\n",
    "\n",
    "    while count < 10:\n",
    "        response.append(((1 - p) ** (count - 1)) * p)\n",
    "        count += 1\n",
    "\n",
    "    return response\n",
    "\n",
    "print(generate_geometric_distribution(0.5))"
   ],
   "metadata": {
    "collapsed": false,
    "pycharm": {
     "is_executing": true
    }
   }
  },
  {
   "cell_type": "code",
   "execution_count": null,
   "outputs": [],
   "source": [],
   "metadata": {
    "collapsed": false,
    "pycharm": {
     "is_executing": true
    }
   }
  }
 ],
 "metadata": {
  "kernelspec": {
   "display_name": "Python 3",
   "language": "python",
   "name": "python3"
  },
  "language_info": {
   "codemirror_mode": {
    "name": "ipython",
    "version": 2
   },
   "file_extension": ".py",
   "mimetype": "text/x-python",
   "name": "python",
   "nbconvert_exporter": "python",
   "pygments_lexer": "ipython2",
   "version": "2.7.6"
  }
 },
 "nbformat": 4,
 "nbformat_minor": 0
}

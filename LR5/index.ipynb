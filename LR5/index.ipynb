{
 "cells": [
  {
   "cell_type": "code",
   "execution_count": 1,
   "id": "1d049fb4-1bdc-47bd-b2c8-e67ed526864d",
   "metadata": {},
   "outputs": [
    {
     "ename": "ModuleNotFoundError",
     "evalue": "No module named 'dsplot'",
     "output_type": "error",
     "traceback": [
      "\u001B[1;31m---------------------------------------------------------------------------\u001B[0m",
      "\u001B[1;31mModuleNotFoundError\u001B[0m                       Traceback (most recent call last)",
      "Cell \u001B[1;32mIn[1], line 4\u001B[0m\n\u001B[0;32m      2\u001B[0m \u001B[38;5;28;01mfrom\u001B[39;00m \u001B[38;5;21;01mpm4py\u001B[39;00m\u001B[38;5;21;01m.\u001B[39;00m\u001B[38;5;21;01mobjects\u001B[39;00m\u001B[38;5;21;01m.\u001B[39;00m\u001B[38;5;21;01mpetri_net\u001B[39;00m\u001B[38;5;21;01m.\u001B[39;00m\u001B[38;5;21;01mobj\u001B[39;00m \u001B[38;5;28;01mimport\u001B[39;00m PetriNet, Marking\n\u001B[0;32m      3\u001B[0m \u001B[38;5;28;01mfrom\u001B[39;00m \u001B[38;5;21;01mpm4py\u001B[39;00m\u001B[38;5;21;01m.\u001B[39;00m\u001B[38;5;21;01mobjects\u001B[39;00m\u001B[38;5;21;01m.\u001B[39;00m\u001B[38;5;21;01mpetri_net\u001B[39;00m\u001B[38;5;21;01m.\u001B[39;00m\u001B[38;5;21;01mutils\u001B[39;00m \u001B[38;5;28;01mimport\u001B[39;00m petri_utils\n\u001B[1;32m----> 4\u001B[0m \u001B[38;5;28;01mfrom\u001B[39;00m \u001B[38;5;21;01mdsplot\u001B[39;00m\u001B[38;5;21;01m.\u001B[39;00m\u001B[38;5;21;01mgraph\u001B[39;00m \u001B[38;5;28;01mimport\u001B[39;00m Graph\n",
      "\u001B[1;31mModuleNotFoundError\u001B[0m: No module named 'dsplot'"
     ]
    }
   ],
   "source": [
    "import pm4py\n",
    "from pm4py.objects.petri_net.obj import PetriNet, Marking\n",
    "from pm4py.objects.petri_net.utils import petri_utils\n",
    "from dsplot.graph import Graph"
   ]
  },
  {
   "cell_type": "markdown",
   "source": [],
   "metadata": {
    "collapsed": false
   }
  },
  {
   "cell_type": "code",
   "execution_count": null,
   "id": "d9e8048a-dea8-4b3a-ae79-e421de7c812f",
   "metadata": {},
   "outputs": [],
   "source": [
    "def execute_script():\n",
    "    net = PetriNet(\"Task 1\")\n",
    "\n",
    "    p1 = PetriNet.Place(\"p1\")\n",
    "    p2 = PetriNet.Place(\"p2\")\n",
    "    p3 = PetriNet.Place(\"p3\")\n",
    "    p4 = PetriNet.Place(\"p4\")\n",
    "    p5 = PetriNet.Place(\"p5\")\n",
    "    \n",
    "    a = PetriNet.Transition(\"a\")\n",
    "    b = PetriNet.Transition(\"b\")\n",
    "    c = PetriNet.Transition(\"c\")\n",
    "    d = PetriNet.Transition(\"d\")\n",
    "\n",
    "    net.places.add(p5)\n",
    "    net.places.add(p1)\n",
    "    net.places.add(p2)\n",
    "    net.places.add(p4)\n",
    "    net.places.add(p3)\n",
    "\n",
    "    net.transitions.add(a)\n",
    "    net.transitions.add(c)\n",
    "    net.transitions.add(b)\n",
    "    net.transitions.add(d)\n",
    "\n",
    "    petri_utils.add_arc_from_to(p4, a, net)\n",
    "    petri_utils.add_arc_from_to(a, p1, net)\n",
    "    petri_utils.add_arc_from_to(p1, c, net)\n",
    "    petri_utils.add_arc_from_to(c, p4, net)\n",
    "    \n",
    "    petri_utils.add_arc_from_to(p3, b, net)\n",
    "    petri_utils.add_arc_from_to(b, p2, net)\n",
    "    petri_utils.add_arc_from_to(p2, c, net)\n",
    "    petri_utils.add_arc_from_to(c, p3, net)\n",
    "    \n",
    "    petri_utils.add_arc_from_to(p4, d, net)\n",
    "    petri_utils.add_arc_from_to(d, p5, net)\n",
    "\n",
    "    im = Marking()\n",
    "    im[p4] = 1\n",
    "    im[p3] = 1\n",
    "\n",
    "    fm = Marking()\n",
    "\n",
    "    pm4py.view_petri_net(net, im, fm, format=\"png\", bgcolor='purple')\n",
    "\n",
    "    return net\n",
    "\n",
    "\n",
    "net = execute_script()"
   ]
  },
  {
   "cell_type": "code",
   "execution_count": null,
   "outputs": [],
   "source": [
    "graph = Graph({\n",
    "     \"[0,0,1,1,0]\": [\"[1,0,1,0,0]\", \"[0,1,0,1,0]\", \"[0,0,1,0,1]\"],\n",
    "     \"[1,0,1,0,0]\": [\"[1,1,0,0,0]\"],\n",
    "     \"[0,1,0,1,0]\": [\"[1,1,0,0,0]\", \"[0,1,0,0,1]\"],\n",
    "     \"[0,0,1,0,1]\": [\"[0,1,0,0,1]\"],\n",
    "     \"[1,1,0,0,0]\": [\"[0,0,1,1,0]\"],\n",
    "     \"[0,1,0,0,1]\": []\n",
    "    }, directed=True,\n",
    "       edges={\n",
    "        '[0,0,1,1,0][1,0,1,0,0]': 'a', '[0,0,1,1,0][0,1,0,1,0]':'b', '[0,0,1,1,0][0,0,1,0,1]': 'd',\n",
    "        '[1,0,1,0,0][1,1,0,0,0]': 'b',\n",
    "        '[0,1,0,1,0][1,1,0,0,0]': 'a', '[0,1,0,1,0][0,1,0,0,1]': 'd',\n",
    "        '[0,0,1,0,1][0,1,0,0,1]': 'b',\n",
    "        '[1,1,0,0,0][0,0,1,1,0]':'c'\n",
    "   })\n",
    "\n",
    "graph.plot()"
   ],
   "metadata": {
    "collapsed": false
   }
  },
  {
   "cell_type": "markdown",
   "source": [
    "# Характеристики\n",
    "### Ограниченность:\n",
    "Сеть ограничена, причем максимальное количество меток в любой позиции сети 1. Т.е. K=1\n",
    "### Безопасность:\n",
    "Сеть безопасна, т.к. K=1.\n",
    "### Сохраняемость:\n",
    "Сеть консервативна, т.к. в процессе функционирования общее число маркеров в сети Петри остается постоянным.\n",
    "### Достижимость:\n",
    "Сеть живая, т.к. есть возможность срабатывания любого перехода при функционировании моделируемого объекта\n",
    "### Устойчивость:\n",
    "Не устойчива - при входных условиях переход необязательно сработает\n",
    "## Сеть со свободным выбором\n",
    "Если позиция является входной для нескольких переходов, то для всех них она является единственной входной позицией.\n",
    "### Простая\n",
    "Простая - каждый переход имеет не более одной общей позиции с другими переходами\n",
    "### Не автоматная\n",
    "Не автоматная - не для каждого перехода найдется только один вход и один выход\n",
    "### Не маркированная\n",
    "Одна из позиций имеет более одного входа и не более одного выхода (p4).\n",
    "### Конфликтная\n",
    "Конфликтная - переходы [0,0,1,1,0] и [1,0,1,0,0] конфликтуют за ресурс в p3"
   ],
   "metadata": {
    "collapsed": false
   }
  },
  {
   "cell_type": "markdown",
   "source": [],
   "metadata": {
    "collapsed": false
   }
  },
  {
   "cell_type": "code",
   "execution_count": null,
   "outputs": [],
   "source": [
    "def execute_script():\n",
    "    net = PetriNet(\"Task 2\")\n",
    "\n",
    "    p1 = PetriNet.Place(\"p1\")\n",
    "    p2 = PetriNet.Place(\"p2\")\n",
    "    p3 = PetriNet.Place(\"p3\")\n",
    "    p4 = PetriNet.Place(\"p4\")\n",
    "    p5 = PetriNet.Place(\"p5\")\n",
    "    p6 = PetriNet.Place(\"p6\")\n",
    "\n",
    "    t1 = PetriNet.Transition(\"t1\")\n",
    "    t2 = PetriNet.Transition(\"t2\")\n",
    "    t3 = PetriNet.Transition(\"t3\")\n",
    "    t4 = PetriNet.Transition(\"t4\")\n",
    "\n",
    "    net.places.add(p1)\n",
    "    net.places.add(p2)\n",
    "    net.places.add(p3)\n",
    "    net.places.add(p4)\n",
    "    net.places.add(p5)\n",
    "    net.places.add(p6)\n",
    "\n",
    "    net.transitions.add(t1)\n",
    "    net.transitions.add(t2)\n",
    "    net.transitions.add(t3)\n",
    "    net.transitions.add(t4)\n",
    "\n",
    "    petri_utils.add_arc_from_to(p1, t1, net)\n",
    "    petri_utils.add_arc_from_to(t1, p2, net)\n",
    "    petri_utils.add_arc_from_to(t1, p6, net)\n",
    "    petri_utils.add_arc_from_to(p6, t4, net)\n",
    "    petri_utils.add_arc_from_to(t1, p3, net)\n",
    "\n",
    "    petri_utils.add_arc_from_to(p2, t2, net)\n",
    "    petri_utils.add_arc_from_to(t2, p4, net)\n",
    "    petri_utils.add_arc_from_to(p4, t4, net)\n",
    "\n",
    "    petri_utils.add_arc_from_to(p3, t3, net)\n",
    "    petri_utils.add_arc_from_to(t3, p5, net)\n",
    "    petri_utils.add_arc_from_to(p5, t4, net)\n",
    "\n",
    "    petri_utils.add_arc_from_to(t4, p1, net)\n",
    "\n",
    "    im = Marking()\n",
    "    im[p1] = 1\n",
    "    im[p6] = 1\n",
    "\n",
    "    fm = Marking()\n",
    "\n",
    "    pm4py.view_petri_net(net, im, fm, format=\"png\", bgcolor='green')\n",
    "\n",
    "    return net\n",
    "\n",
    "\n",
    "net = execute_script()"
   ],
   "metadata": {
    "collapsed": false
   }
  },
  {
   "cell_type": "code",
   "execution_count": null,
   "outputs": [],
   "source": [
    "graph = Graph({\n",
    "     \"[1,0,0,0,0,1]\": [\"[0,1,1,0,0,2]\"],\n",
    "     \"[0,1,1,0,0,2]\": [\"[0,0,1,1,0,2]\",\"[0,1,0,0,1,2]\"],\n",
    "     \"[0,0,1,1,0,2]\": [\"[0,0,0,1,1,2]\"],\n",
    "     \"[0,1,0,0,1,2]\": [\"[0,0,0,1,1,2]\"],\n",
    "     \"[0,0,0,1,1,2]\": [\"[1,0,0,0,0,1]\"],\n",
    "    }, directed=True,\n",
    "    edges = {\n",
    "        '[1,0,0,0,0,1][0,1,1,0,0,2]': 't1',\n",
    "        '[0,1,1,0,0,2][0,0,1,1,0,2]': 't2','[0,1,1,0,0,2][0,1,0,0,1,2]': 't3',\n",
    "        '[0,0,1,1,0,2][0,0,0,1,1,2]': 't3',\n",
    "        '[0,1,0,0,1,2][0,0,0,1,1,2]': 't2',\n",
    "        '[0,0,0,1,1,2][1,0,0,0,0,1]': 't4'\n",
    "    })\n",
    "\n",
    "graph.plot()"
   ],
   "metadata": {
    "collapsed": false
   }
  },
  {
   "cell_type": "markdown",
   "source": [
    "# Характеристики\n",
    "### Ограниченность:\n",
    "Сеть ограничена, причем максимальное количество меток в любой позиции сети 2. Т.е. K=2\n",
    "### Безопасность:\n",
    "Сеть небезопасна, т.к. K=2.\n",
    "### Сохраняемость:\n",
    "Сеть консервативна, т.к. в процессе функционирования общее число маркеров в сети Петри остается постоянным.\n",
    "### Достижимость:\n",
    "Сеть живая, т.к. есть возможность срабатывания любого перехода при функционировании моделируемого объекта\n",
    "### Устойчивость:\n",
    "Устойчива - при входных условиях переход обязательно сработает\n",
    "## Сеть со свободным выбором\n",
    "Если позиция является входной для нескольких переходов, то для всех них она является единственной входной позицией.\n",
    "### Простая\n",
    "Простая - каждый переход имеет не более одной общей позиции с другими переходами\n",
    "### Не автоматная\n",
    "Не автоматная - не для каждого перехода найдется только один вход и один выход\n",
    "### Маркированная\n",
    "Каждая позиция имеет не более одного входа и не более одного выхода.\n",
    "### Неконфликтная\n",
    "Нет конфликтов за ресурсы"
   ],
   "metadata": {
    "collapsed": false
   }
  },
  {
   "cell_type": "code",
   "execution_count": null,
   "outputs": [],
   "source": [],
   "metadata": {
    "collapsed": false
   }
  }
 ],
 "metadata": {
  "kernelspec": {
   "display_name": "Python 3 (ipykernel)",
   "language": "python",
   "name": "python3"
  },
  "language_info": {
   "codemirror_mode": {
    "name": "ipython",
    "version": 3
   },
   "file_extension": ".py",
   "mimetype": "text/x-python",
   "name": "python",
   "nbconvert_exporter": "python",
   "pygments_lexer": "ipython3",
   "version": "3.11.0"
  }
 },
 "nbformat": 4,
 "nbformat_minor": 5
}

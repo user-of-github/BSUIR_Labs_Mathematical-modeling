{
 "cells": [
  {
   "cell_type": "code",
   "execution_count": 4,
   "metadata": {
    "collapsed": true
   },
   "outputs": [
    {
     "name": "stdout",
     "output_type": "stream",
     "text": [
      "Коэффициент загрузки: 2.08\n",
      "p0: 0.028471332347566217\n",
      "Вероятность отказа: 0.5329189097824838\n",
      "Среднее число заявок, стоящих в очереди: 2.234357130252966\n"
     ]
    }
   ],
   "source": [
    "queue_length: int = 3 # m\n",
    "intensity_of_receipt_of_applications_per_hour: int = 4 # интенсивность поступления заявок\n",
    "t_of_service: float = 0.52  # время обслуживания 1 заявки (в часах)\n",
    "\n",
    "\n",
    "# --------------\n",
    "\n",
    "mu: float = 1 / t_of_service # интенсивность обслуживания в час\n",
    "\n",
    "\n",
    "load_factor: float = intensity_of_receipt_of_applications_per_hour / mu  # коэффициент загрузки, лямбда / мю\n",
    "print(f'Коэффициент загрузки: {load_factor}')\n",
    "\n",
    "p0: float = (1 - load_factor) / (1 - load_factor ** (queue_length + 2))\n",
    "p_refuse: float = load_factor ** (queue_length + 1) * p0 # вероятность отказа\n",
    "\n",
    "print(f'p0: {p0}')\n",
    "print(f'Вероятность отказа: {p_refuse}')\n",
    "\n",
    "L_queue: float = (load_factor ** 2) * ((1 - (load_factor ** queue_length) * (queue_length * (1 - load_factor) + 1)) / ((1 - load_factor) ** 2)) *  p0\n",
    "print(f'Среднее число заявок, стоящих в очереди: {L_queue}')"
   ]
  }
 ],
 "metadata": {
  "kernelspec": {
   "display_name": "Python 3",
   "language": "python",
   "name": "python3"
  },
  "language_info": {
   "codemirror_mode": {
    "name": "ipython",
    "version": 2
   },
   "file_extension": ".py",
   "mimetype": "text/x-python",
   "name": "python",
   "nbconvert_exporter": "python",
   "pygments_lexer": "ipython2",
   "version": "2.7.6"
  }
 },
 "nbformat": 4,
 "nbformat_minor": 0
}
